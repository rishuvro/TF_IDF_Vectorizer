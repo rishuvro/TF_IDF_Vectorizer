{
  "nbformat": 4,
  "nbformat_minor": 0,
  "metadata": {
    "colab": {
      "provenance": []
    },
    "kernelspec": {
      "name": "python3",
      "display_name": "Python 3"
    },
    "language_info": {
      "name": "python"
    }
  },
  "cells": [
    {
      "cell_type": "code",
      "execution_count": null,
      "metadata": {
        "id": "kUAo2x1JGgL3"
      },
      "outputs": [],
      "source": [
        "from sklearn.feature_extraction.text import TfidfVectorizer"
      ]
    },
    {
      "cell_type": "code",
      "source": [
        "documents = [\n",
        "    \"The quick brown fox jumps over the lazy dog\",\n",
        "    \"The dog is lazy and the fox is quick\"\n",
        "]"
      ],
      "metadata": {
        "id": "CWyCb5NxGrAq"
      },
      "execution_count": null,
      "outputs": []
    },
    {
      "cell_type": "code",
      "source": [
        "vectorizer = TfidfVectorizer()\n"
      ],
      "metadata": {
        "id": "kNp_U8r9GuFC"
      },
      "execution_count": null,
      "outputs": []
    },
    {
      "cell_type": "code",
      "source": [
        "tfidf_matrix = vectorizer.fit_transform(documents)"
      ],
      "metadata": {
        "id": "lGec5_wRGve1"
      },
      "execution_count": null,
      "outputs": []
    },
    {
      "cell_type": "code",
      "source": [
        "feature_names = vectorizer.get_feature_names_out()\n",
        "\n"
      ],
      "metadata": {
        "id": "OBi2jJUEG3eG"
      },
      "execution_count": null,
      "outputs": []
    },
    {
      "cell_type": "code",
      "source": [
        "for i in range(len(documents)):\n",
        "    print(\"Document\", i+1)\n",
        "    for j in range(len(feature_names)):\n",
        "        word = feature_names[j]\n",
        "        tfidf_score = tfidf_matrix[i, j]\n",
        "        print(word, tfidf_score)\n",
        "    print()"
      ],
      "metadata": {
        "colab": {
          "base_uri": "https://localhost:8080/"
        },
        "id": "oY53LM5DIHKL",
        "outputId": "e9d6dfdf-dae3-4e2f-bea0-d4c8e9d18951"
      },
      "execution_count": null,
      "outputs": [
        {
          "output_type": "stream",
          "name": "stdout",
          "text": [
            "Document 1\n",
            "and 0.0\n",
            "brown 0.3766230770966681\n",
            "dog 0.26797042126760734\n",
            "fox 0.26797042126760734\n",
            "is 0.0\n",
            "jumps 0.3766230770966681\n",
            "lazy 0.26797042126760734\n",
            "over 0.3766230770966681\n",
            "quick 0.26797042126760734\n",
            "the 0.5359408425352147\n",
            "\n",
            "Document 2\n",
            "and 0.3324121335910169\n",
            "brown 0.0\n",
            "dog 0.23651397083664527\n",
            "fox 0.23651397083664527\n",
            "is 0.6648242671820338\n",
            "jumps 0.0\n",
            "lazy 0.23651397083664527\n",
            "over 0.0\n",
            "quick 0.23651397083664527\n",
            "the 0.47302794167329054\n",
            "\n"
          ]
        }
      ]
    }
  ]
}